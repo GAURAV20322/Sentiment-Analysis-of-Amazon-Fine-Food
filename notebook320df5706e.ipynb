{
  "metadata": {
    "kernelspec": {
      "language": "python",
      "display_name": "Python 3",
      "name": "python3"
    },
    "language_info": {
      "pygments_lexer": "ipython3",
      "nbconvert_exporter": "python",
      "version": "3.6.4",
      "file_extension": ".py",
      "codemirror_mode": {
        "name": "ipython",
        "version": 3
      },
      "name": "python",
      "mimetype": "text/x-python"
    },
    "kaggle": {
      "accelerator": "none",
      "dataSources": [
        {
          "sourceId": 2157,
          "sourceType": "datasetVersion",
          "datasetId": 18
        }
      ],
      "dockerImageVersionId": 30096,
      "isInternetEnabled": false,
      "language": "python",
      "sourceType": "notebook",
      "isGpuEnabled": false
    },
    "colab": {
      "name": "notebook320df5706e",
      "provenance": []
    }
  },
  "nbformat_minor": 0,
  "nbformat": 4,
  "cells": [
    {
      "source": [
        "\n",
        "# IMPORTANT: RUN THIS CELL IN ORDER TO IMPORT YOUR KAGGLE DATA SOURCES\n",
        "# TO THE CORRECT LOCATION (/kaggle/input) IN YOUR NOTEBOOK,\n",
        "# THEN FEEL FREE TO DELETE THIS CELL.\n",
        "# NOTE: THIS NOTEBOOK ENVIRONMENT DIFFERS FROM KAGGLE'S PYTHON\n",
        "# ENVIRONMENT SO THERE MAY BE MISSING LIBRARIES USED BY YOUR\n",
        "# NOTEBOOK.\n",
        "\n",
        "import os\n",
        "import sys\n",
        "from tempfile import NamedTemporaryFile\n",
        "from urllib.request import urlopen\n",
        "from urllib.parse import unquote, urlparse\n",
        "from urllib.error import HTTPError\n",
        "from zipfile import ZipFile\n",
        "import tarfile\n",
        "import shutil\n",
        "\n",
        "CHUNK_SIZE = 40960\n",
        "DATA_SOURCE_MAPPING = 'amazon-fine-food-reviews:https%3A%2F%2Fstorage.googleapis.com%2Fkaggle-data-sets%2F18%2F2157%2Fbundle%2Farchive.zip%3FX-Goog-Algorithm%3DGOOG4-RSA-SHA256%26X-Goog-Credential%3Dgcp-kaggle-com%2540kaggle-161607.iam.gserviceaccount.com%252F20241004%252Fauto%252Fstorage%252Fgoog4_request%26X-Goog-Date%3D20241004T170456Z%26X-Goog-Expires%3D259200%26X-Goog-SignedHeaders%3Dhost%26X-Goog-Signature%3D91e76e72744032ba2ce6259a4a5002901c1c48400c2b98255064bea81ef632b746675878a586919e3009feec59071dc83d3f63adaf9dc51fc5943e38de050dafd5e50ebb8267c1d797bb7d204b1ee4da76a19548fa7c4a313dc058f7c343f52e2f3be8814b605f083dc7f3f4e0276c41c46dcfe7e264707d121c7d2e6c7ac118f586b489d9c84998dd7560b59ffcfe191442d8901fe7bd34569d8476db78f4fc100c8e1ca51939b4598f5c4f0fdc7779e4cb32b3be268b350b04c8e0ec0ee64d651740106d38facf0e52520d0a66fb0cf949ebf6607d2a6f5a6a010f0023f3b99f6db4d6811e21f6ed494455d103ec5acdd5e12c41183c15849b7873cc25cd56'\n",
        "\n",
        "KAGGLE_INPUT_PATH='/kaggle/input'\n",
        "KAGGLE_WORKING_PATH='/kaggle/working'\n",
        "KAGGLE_SYMLINK='kaggle'\n",
        "\n",
        "!umount /kaggle/input/ 2> /dev/null\n",
        "shutil.rmtree('/kaggle/input', ignore_errors=True)\n",
        "os.makedirs(KAGGLE_INPUT_PATH, 0o777, exist_ok=True)\n",
        "os.makedirs(KAGGLE_WORKING_PATH, 0o777, exist_ok=True)\n",
        "\n",
        "try:\n",
        "  os.symlink(KAGGLE_INPUT_PATH, os.path.join(\"..\", 'input'), target_is_directory=True)\n",
        "except FileExistsError:\n",
        "  pass\n",
        "try:\n",
        "  os.symlink(KAGGLE_WORKING_PATH, os.path.join(\"..\", 'working'), target_is_directory=True)\n",
        "except FileExistsError:\n",
        "  pass\n",
        "\n",
        "for data_source_mapping in DATA_SOURCE_MAPPING.split(','):\n",
        "    directory, download_url_encoded = data_source_mapping.split(':')\n",
        "    download_url = unquote(download_url_encoded)\n",
        "    filename = urlparse(download_url).path\n",
        "    destination_path = os.path.join(KAGGLE_INPUT_PATH, directory)\n",
        "    try:\n",
        "        with urlopen(download_url) as fileres, NamedTemporaryFile() as tfile:\n",
        "            total_length = fileres.headers['content-length']\n",
        "            print(f'Downloading {directory}, {total_length} bytes compressed')\n",
        "            dl = 0\n",
        "            data = fileres.read(CHUNK_SIZE)\n",
        "            while len(data) > 0:\n",
        "                dl += len(data)\n",
        "                tfile.write(data)\n",
        "                done = int(50 * dl / int(total_length))\n",
        "                sys.stdout.write(f\"\\r[{'=' * done}{' ' * (50-done)}] {dl} bytes downloaded\")\n",
        "                sys.stdout.flush()\n",
        "                data = fileres.read(CHUNK_SIZE)\n",
        "            if filename.endswith('.zip'):\n",
        "              with ZipFile(tfile) as zfile:\n",
        "                zfile.extractall(destination_path)\n",
        "            else:\n",
        "              with tarfile.open(tfile.name) as tarfile:\n",
        "                tarfile.extractall(destination_path)\n",
        "            print(f'\\nDownloaded and uncompressed: {directory}')\n",
        "    except HTTPError as e:\n",
        "        print(f'Failed to load (likely expired) {download_url} to path {destination_path}')\n",
        "        continue\n",
        "    except OSError as e:\n",
        "        print(f'Failed to load {download_url} to path {destination_path}')\n",
        "        continue\n",
        "\n",
        "print('Data source import complete.')\n"
      ],
      "metadata": {
        "id": "FWESwo-JffS_"
      },
      "cell_type": "code",
      "outputs": [],
      "execution_count": null
    },
    {
      "cell_type": "markdown",
      "source": [
        "<br>\n",
        "<h2 style = \"font-size:30px; font-family:Garamond ; font-weight : bold; background-color: #007580; color :#fed049   ; text-align: center; border-radius: 5px 5px; padding: 5px\">Sentiment Analysis of Amazon Fine Food Reviews</h2>\n",
        "<br>\n",
        "<div class = 'image'> <img style=\"float:center; border:5px solid #fed049; width:80%;\" align=center src = \"https://lionbridge.ai/wp-content/uploads/2018/10/ai-terms_sentiment-analysis.jpg\">\n",
        "</div>\n",
        "<a href =\"https://forum.bubble.io/t/new-plugin-google-cloud-nlp-sentiment-analysis/112789\"\n",
        "   style = \"font-size:20px,color: dimgrey, text-align:center,font-family:serif\">Image Source</a>\n",
        "<br>"
      ],
      "metadata": {
        "id": "3sjdi9LzT6yK"
      }
    },
    {
      "cell_type": "markdown",
      "source": [
        "<h2 style = \"font-size:30px; font-family:Garamond ; font-weight : normal; background-color: #007580; color :#fed049   ; text-align: center; border-radius: 5px 5px; padding: 5px\">Table of Contents</h2>\n",
        "\n",
        "   #### [1. Problem Definition](#1)\n",
        "   #### [2. Data Collection](#2)\n",
        "   #### [3. Data Preparation](#3)\n",
        "   #### [4. Model Training](#4)\n",
        "   #### [5. Model Evaluation](#5)\n",
        "   #### [6. Deployment](#6)"
      ],
      "metadata": {
        "id": "dNC9C5cHffTQ"
      }
    },
    {
      "cell_type": "markdown",
      "source": [
        "<a id=\"1\"></a>\n",
        "<h2 style = \"font-size:30px; font-family:Garamond ; font-weight : bold; background-color: #007580; color :#fed049   ; text-align: center; border-radius: 5px 5px; padding: 5px\">1. Problem Definition</h2>\n",
        "<h2 style = \"font-size:25px; font-family:Garamond ; font-weight : bold; background-color: #007580; color :#fed049   ; text-align: center; border-radius: 5px 5px; padding: 5px\">What is Sentiment Analysis ?</h2>\n",
        "\n",
        "#### Sentiment analysis is the process of reading tons of product reviews automatically and extract useful and meaningful information to discover if the customers are really satisfied with your product or not.\n",
        "\n",
        "#### A person’s feedback is more subjective rather than factual. Feedbacks can be negative, positive, or neutral.\n",
        "\n",
        "#### Sentiment analysis applies Natural Language Processing (NLP) and Text Analysis techniques to highlight the subjective information from the text.\n",
        "\n",
        "<h2 style = \"font-size:25px; font-family:Garamond ; font-weight : bold; background-color: #007580; color :#fed049   ; text-align: center; border-radius: 5px 5px; padding: 5px\">Business understanding</h2>\n",
        "\n",
        "<div class = 'image'> <img style=\"float:center; border:5px solid #fed049; width:70%;\" align=center src = \"https://static.wixstatic.com/media/e284c3_5c75ec753e434e6e84821790e552d0a2~mv2.jpg/v1/fill/w_740,h_351,al_c,q_90/e284c3_5c75ec753e434e6e84821790e552d0a2~mv2.webp\">\n",
        "</div>\n",
        "\n",
        "<a href =\"https://www.pyoneer.io/post/5-reasons-why-sentiment-analysis-is-important\"\n",
        "   style = \"font-size:20px,color: dimgrey, text-align:center,font-family:serif\">Image Source : pynoeer.io</a>\n",
        "<br>\n",
        "\n",
        "#### Performing the sentiment analysis on the customer reviews can help identify what is lacking and therefore guide you to improvement.\n",
        "#### You can review customer feedback and responses, and thus identify the negative comments and reasons why the customers have issues with your product or service."
      ],
      "metadata": {
        "id": "c-5M-PqaT6yT"
      }
    },
    {
      "cell_type": "markdown",
      "source": [
        "<h2 style = \"font-size:25px; font-family:Garamond ; font-weight : bold; background-color: #007580; color :#fed049   ; text-align: center; border-radius: 5px 5px; padding: 5px\"> Objective</h2>\n",
        "\n",
        "#### Aim : To determine the sentiment of a given review. (Negative/ Neutral/ Positive)\n",
        "---\n",
        "#### ML Task : Supervised Learning Multi-Class Text Classification\n",
        "---\n",
        "#### Performance metrics : Accuracy, Confusion matrix\n",
        "---\n"
      ],
      "metadata": {
        "id": "zZf4p31_ffTS"
      }
    },
    {
      "cell_type": "markdown",
      "source": [
        "<a id=\"2\"></a>\n",
        "<h2 style = \"font-size:30px; font-family:Garamond ; font-weight : bold; background-color: #007580; color :#fed049   ; text-align: center; border-radius: 5px 5px; padding: 10px\">2. Data collection</h2>\n",
        "\n",
        "<h2 style = \"font-size:25px; font-family:Garamond ; font-weight : bold; background-color: #007580; color :#fed049   ; text-align: center; border-radius: 5px 5px; padding: 5px\">Description</h2>\n",
        "<p style=\"font-size: 14px; background-color: lightgray; padding: 10px\">\n",
        "    This dataset consists of reviews of fine foods from amazon. <br>\n",
        "    The data span a period of more than 10 years, including all ~500,000 reviews up to October 2012.<br><br>\n",
        "Reviews include product and user information, ratings, and a plain text review.\n",
        "It also includes reviews from all other Amazon categories.<br><br>\n",
        "   <b>Data includes :</b><br>\n",
        "   - Reviews from Oct 1999 - Oct 2012<br>\n",
        "   - 568,454 reviews<br>\n",
        "   - 256,059 users<br>\n",
        "   - 74,258 products<br><br>\n",
        "<b> Attributes :</b><br>\n",
        "   - <b>ProductId</b> : Unique identifier for the product<br>\n",
        "   - <b>UserId</b> : Unqiue identifier for the user<br>\n",
        "   - <b>ProfileName</b> : Name of customer<br>\n",
        "   - <b>HelpfulnessNumerator</b> : Number of users who found the review helpful<br>\n",
        "   - <b>HelpfulnessDenominator</b> : Number of users who indicated whether they found the review helpful or not<br>\n",
        "   - <b>Score</b> : Rating between 1 and 5<br>\n",
        "   - <b>Time</b> : Timestamp for the review<br>\n",
        "   - <b>Summary</b> : Brief summary of the review<br>\n",
        "   - <b>Text</b> : Review text\n",
        "  \n",
        "</p>"
      ],
      "metadata": {
        "id": "SaDZMwV9ffTT"
      }
    },
    {
      "cell_type": "markdown",
      "source": [
        "### Import libraries"
      ],
      "metadata": {
        "id": "cbqWdtP6ffTU"
      }
    },
    {
      "cell_type": "code",
      "source": [
        "import numpy as np\n",
        "import pandas as pd\n",
        "import matplotlib.pyplot as plt\n",
        "import seaborn as sns\n",
        "\n",
        "from wordcloud import WordCloud, STOPWORDS\n",
        "from sklearn.model_selection import train_test_split\n",
        "from sklearn.preprocessing import LabelEncoder\n",
        "from sklearn.metrics import accuracy_score, confusion_matrix\n",
        "\n",
        "import string\n",
        "import re\n",
        "\n",
        "from sklearn.feature_extraction.text import TfidfVectorizer\n",
        "from sklearn.feature_extraction.text import CountVectorizer\n",
        "from nltk.corpus import stopwords\n",
        "from nltk.stem import PorterStemmer\n",
        "\n",
        "from sklearn.linear_model import LogisticRegression\n",
        "from sklearn.naive_bayes import MultinomialNB\n",
        "\n",
        "from keras.utils import to_categorical\n",
        "from keras.preprocessing.text import Tokenizer\n",
        "from keras.preprocessing.sequence import pad_sequences\n",
        "from keras.layers import Dense , LSTM , Embedding\n",
        "from keras.models import Sequential\n",
        "from keras.callbacks import EarlyStopping\n",
        "\n",
        "import warnings\n",
        "warnings.filterwarnings('ignore')\n",
        "\n",
        "import pickle"
      ],
      "metadata": {
        "_kg_hide-input": true,
        "execution": {
          "iopub.status.busy": "2021-06-11T05:31:48.363116Z",
          "iopub.execute_input": "2021-06-11T05:31:48.363502Z",
          "iopub.status.idle": "2021-06-11T05:31:54.644253Z",
          "shell.execute_reply.started": "2021-06-11T05:31:48.363414Z",
          "shell.execute_reply": "2021-06-11T05:31:54.64345Z"
        },
        "trusted": true,
        "id": "ygq62laLffTW"
      },
      "execution_count": null,
      "outputs": []
    },
    {
      "cell_type": "markdown",
      "source": [
        "<a id=\"3\"></a>\n",
        "<h2 style = \"font-size:30px; font-family:Garamond ; font-weight : bold; background-color: #007580; color :#fed049   ; text-align: center; border-radius: 5px 5px; padding: 10px\">3. Data Preparation</h2>\n",
        "\n",
        "### Load data"
      ],
      "metadata": {
        "id": "WbT0pzG9ffTX"
      }
    },
    {
      "cell_type": "code",
      "source": [
        "data = pd.read_csv(\"/kaggle/input/amazon-fine-food-reviews/Reviews.csv\")\n",
        "data.head()"
      ],
      "metadata": {
        "execution": {
          "iopub.status.busy": "2021-06-11T05:31:54.645617Z",
          "iopub.execute_input": "2021-06-11T05:31:54.645957Z",
          "iopub.status.idle": "2021-06-11T05:32:00.72385Z",
          "shell.execute_reply.started": "2021-06-11T05:31:54.645923Z",
          "shell.execute_reply": "2021-06-11T05:32:00.72307Z"
        },
        "trusted": true,
        "id": "JyjLdEf8ffTY"
      },
      "execution_count": null,
      "outputs": []
    },
    {
      "cell_type": "code",
      "source": [
        "data.shape"
      ],
      "metadata": {
        "execution": {
          "iopub.status.busy": "2021-06-11T05:32:00.725811Z",
          "iopub.execute_input": "2021-06-11T05:32:00.72622Z",
          "iopub.status.idle": "2021-06-11T05:32:00.732212Z",
          "shell.execute_reply.started": "2021-06-11T05:32:00.726181Z",
          "shell.execute_reply": "2021-06-11T05:32:00.731169Z"
        },
        "trusted": true,
        "id": "wmc-ze0bffTZ"
      },
      "execution_count": null,
      "outputs": []
    },
    {
      "cell_type": "markdown",
      "source": [
        "<h2 style = \"font-size:25px; font-family:Garamond ; font-weight : bold; background-color: #007580; color :#fed049   ; text-align: center; border-radius: 5px 5px; padding: 5px\">Data cleaning</h2>\n",
        "\n",
        "## Handling missing values"
      ],
      "metadata": {
        "id": "LSSvpd0GffTZ"
      }
    },
    {
      "cell_type": "code",
      "source": [
        "# Check null values\n",
        "data.isna().sum().to_frame(name='# of missing values')"
      ],
      "metadata": {
        "execution": {
          "iopub.status.busy": "2021-06-11T05:32:00.734359Z",
          "iopub.execute_input": "2021-06-11T05:32:00.734718Z",
          "iopub.status.idle": "2021-06-11T05:32:01.000108Z",
          "shell.execute_reply.started": "2021-06-11T05:32:00.734683Z",
          "shell.execute_reply": "2021-06-11T05:32:00.999089Z"
        },
        "trusted": true,
        "id": "iwnrcSB6ffTa"
      },
      "execution_count": null,
      "outputs": []
    },
    {
      "cell_type": "markdown",
      "source": [
        "### Remove rows which are having null values"
      ],
      "metadata": {
        "id": "mnc_12vGffTb"
      }
    },
    {
      "cell_type": "code",
      "source": [
        "total_rows =  data.shape[0]\n",
        "data.dropna(how='any',inplace=True)\n",
        "remaining_rows= data.shape[0]\n",
        "\n",
        "removed_rows = total_rows-remaining_rows\n",
        "print(\"No. of rows removed :\", removed_rows)\n",
        "\n",
        "print(f\"\\nPercentage of data removed:{np.round((removed_rows/total_rows)*100,2)}%\")\n",
        "print(f\"Percentage of data remaining:{np.round((remaining_rows/total_rows)*100,2)}%\")"
      ],
      "metadata": {
        "execution": {
          "iopub.status.busy": "2021-06-11T05:32:01.001601Z",
          "iopub.execute_input": "2021-06-11T05:32:01.00197Z",
          "iopub.status.idle": "2021-06-11T05:32:01.34502Z",
          "shell.execute_reply.started": "2021-06-11T05:32:01.001933Z",
          "shell.execute_reply": "2021-06-11T05:32:01.344126Z"
        },
        "trusted": true,
        "id": "ydeDspfJffTb"
      },
      "execution_count": null,
      "outputs": []
    },
    {
      "cell_type": "markdown",
      "source": [
        "### Remove duplicate rows"
      ],
      "metadata": {
        "id": "WzE2k70OffTc"
      }
    },
    {
      "cell_type": "code",
      "source": [
        "a =  data.shape[0]\n",
        "data.drop_duplicates(inplace=True, subset=['Score','Text'])\n",
        "b = data.shape[0]\n",
        "\n",
        "print(\"No. of rows removed :\", a-b)\n",
        "\n",
        "print(f\"\\nPercentage of data removed: {np.round(((a-b)/total_rows)*100,2)}%\")\n",
        "print(f\"Percentage of data remaining: {np.round((b/total_rows)*100,2)}%\")"
      ],
      "metadata": {
        "id": "I4DRXBiWT6ye",
        "execution": {
          "iopub.status.busy": "2021-06-11T05:32:01.346431Z",
          "iopub.execute_input": "2021-06-11T05:32:01.346943Z",
          "iopub.status.idle": "2021-06-11T05:32:02.028006Z",
          "shell.execute_reply.started": "2021-06-11T05:32:01.346906Z",
          "shell.execute_reply": "2021-06-11T05:32:02.027022Z"
        },
        "trusted": true
      },
      "execution_count": null,
      "outputs": []
    },
    {
      "cell_type": "markdown",
      "source": [
        "### Remove outliers"
      ],
      "metadata": {
        "id": "v9szIHA4ffTd"
      }
    },
    {
      "cell_type": "code",
      "source": [
        "a =  data.shape[0]\n",
        "\n",
        "idx = data[data[\"HelpfulnessNumerator\"]>data[\"HelpfulnessDenominator\"]].index\n",
        "data.drop(index=idx, inplace=True)\n",
        "\n",
        "b = data.shape[0]\n",
        "\n",
        "print(\"No. of rows removed :\", a-b)\n",
        "\n",
        "print(f\"\\nPercentage of data removed:{np.round(((a-b)/total_rows)*100,2)}%\")\n",
        "print(f\"Percentage of data remaining:{np.round((b/total_rows)*100,2)}%\")"
      ],
      "metadata": {
        "execution": {
          "iopub.status.busy": "2021-06-11T05:32:02.029459Z",
          "iopub.execute_input": "2021-06-11T05:32:02.029805Z",
          "iopub.status.idle": "2021-06-11T05:32:02.111222Z",
          "shell.execute_reply.started": "2021-06-11T05:32:02.029768Z",
          "shell.execute_reply": "2021-06-11T05:32:02.110227Z"
        },
        "trusted": true,
        "id": "JV_X9413ffTd"
      },
      "execution_count": null,
      "outputs": []
    },
    {
      "cell_type": "markdown",
      "source": [
        "### Create target column using Score"
      ],
      "metadata": {
        "id": "3IzpaUg0ffTe"
      }
    },
    {
      "cell_type": "code",
      "source": [
        "## `Score` > 3 : \"Positive\"\n",
        "## `Score` == 3 : \"Neutral\"\n",
        "## `Score` < 3 : \"Negative\"\n",
        "\n",
        "def create_target(x):\n",
        "\n",
        "    return \"Positive\" if x>3 else \"Negative\" if x<3 else \"Neutral\"\n",
        "\n",
        "data.loc[:, 'target'] = data.Score.apply(create_target)"
      ],
      "metadata": {
        "execution": {
          "iopub.status.busy": "2021-06-11T05:32:02.114267Z",
          "iopub.execute_input": "2021-06-11T05:32:02.114634Z",
          "iopub.status.idle": "2021-06-11T05:32:02.214834Z",
          "shell.execute_reply.started": "2021-06-11T05:32:02.114605Z",
          "shell.execute_reply": "2021-06-11T05:32:02.214097Z"
        },
        "trusted": true,
        "id": "GG24FmUTffTe"
      },
      "execution_count": null,
      "outputs": []
    },
    {
      "cell_type": "code",
      "source": [
        "# target column\n",
        "data[['Score', 'target']].sample(5)"
      ],
      "metadata": {
        "execution": {
          "iopub.status.busy": "2021-06-11T05:32:02.216691Z",
          "iopub.execute_input": "2021-06-11T05:32:02.217037Z",
          "iopub.status.idle": "2021-06-11T05:32:02.337403Z",
          "shell.execute_reply.started": "2021-06-11T05:32:02.217002Z",
          "shell.execute_reply": "2021-06-11T05:32:02.336618Z"
        },
        "trusted": true,
        "id": "T5seR2LHffTe"
      },
      "execution_count": null,
      "outputs": []
    },
    {
      "cell_type": "markdown",
      "source": [
        "<h2 style = \"font-size:25px; font-family:Garamond ; font-weight : bold; background-color: #007580; color :#fed049   ; text-align: center; border-radius: 5px 5px; padding: 5px\">Handling class imbalance</h2>\n",
        "\n",
        "### Target distribution (Before)"
      ],
      "metadata": {
        "id": "2ohGTXiIffTf"
      }
    },
    {
      "cell_type": "code",
      "source": [
        "fig, ax = plt.subplots(figsize=(16, 6))\n",
        "\n",
        "vc = data.target.value_counts()\n",
        "vc.plot.barh(color=\"blue\",fontsize=14,ax=ax)\n",
        "ax.set_title(\"Label vs Count\", fontsize=15)\n",
        "plt.show()"
      ],
      "metadata": {
        "execution": {
          "iopub.status.busy": "2021-06-11T05:32:02.338782Z",
          "iopub.execute_input": "2021-06-11T05:32:02.339111Z",
          "iopub.status.idle": "2021-06-11T05:32:02.563488Z",
          "shell.execute_reply.started": "2021-06-11T05:32:02.339074Z",
          "shell.execute_reply": "2021-06-11T05:32:02.562752Z"
        },
        "trusted": true,
        "id": "ZddaxzuDffTf"
      },
      "execution_count": null,
      "outputs": []
    },
    {
      "cell_type": "markdown",
      "source": [
        "### Down sampling (remove some positive and negative reviews)"
      ],
      "metadata": {
        "id": "bLZwZV6wffTf"
      }
    },
    {
      "cell_type": "code",
      "source": [
        "neutral = data.loc[data.target==\"Neutral\"] # 29770 reviews\n",
        "\n",
        "positive = data.loc[data.target==\"Positive\"].sample(50000)\n",
        "\n",
        "negative = data.loc[data.target==\"Negative\"].sample(50000)\n",
        "\n",
        "data = pd.concat([positive, negative, neutral])\n",
        "data.shape"
      ],
      "metadata": {
        "execution": {
          "iopub.status.busy": "2021-06-11T05:32:02.564747Z",
          "iopub.execute_input": "2021-06-11T05:32:02.565092Z",
          "iopub.status.idle": "2021-06-11T05:32:02.859172Z",
          "shell.execute_reply.started": "2021-06-11T05:32:02.565055Z",
          "shell.execute_reply": "2021-06-11T05:32:02.858198Z"
        },
        "trusted": true,
        "id": "f8hSQp8wffTg"
      },
      "execution_count": null,
      "outputs": []
    },
    {
      "cell_type": "markdown",
      "source": [
        "### Target distribution (after)"
      ],
      "metadata": {
        "id": "4GwnOuXEffTg"
      }
    },
    {
      "cell_type": "code",
      "source": [
        "fig, ax = plt.subplots(figsize=(16, 6))\n",
        "\n",
        "vc = data.target.value_counts()\n",
        "vc.plot.barh(color=\"blue\",fontsize=14,ax=ax)\n",
        "ax.set_title(\"Label vs Count\", fontsize=15)\n",
        "plt.show()"
      ],
      "metadata": {
        "execution": {
          "iopub.status.busy": "2021-06-11T05:32:02.860747Z",
          "iopub.execute_input": "2021-06-11T05:32:02.861085Z",
          "iopub.status.idle": "2021-06-11T05:32:03.001617Z",
          "shell.execute_reply.started": "2021-06-11T05:32:02.861048Z",
          "shell.execute_reply": "2021-06-11T05:32:03.000718Z"
        },
        "trusted": true,
        "id": "KpSFHSznffTh"
      },
      "execution_count": null,
      "outputs": []
    },
    {
      "cell_type": "markdown",
      "source": [
        "<h2 style = \"font-size:25px; font-family:Garamond ; font-weight : bold; background-color: #007580; color :#fed049   ; text-align: center; border-radius: 5px 5px; padding: 5px\">Data Pre-processing</h2>"
      ],
      "metadata": {
        "id": "I7GfILTiffTh"
      }
    },
    {
      "cell_type": "markdown",
      "source": [
        "### Stop words"
      ],
      "metadata": {
        "id": "MXPkGnqFffTh"
      }
    },
    {
      "cell_type": "code",
      "source": [
        "# stopwords\n",
        "total_stopwords = set(stopwords.words('english'))\n",
        "\n",
        "# subtract negative stop words like no, not, don't etc.. from total_stopwords\n",
        "negative_stop_words = set(word for word in total_stopwords\n",
        "                          if \"n't\" in word or 'no' in word)\n",
        "\n",
        "final_stopwords = total_stopwords - negative_stop_words\n",
        "\n",
        "#\n",
        "final_stopwords.add(\"one\")\n",
        "print(final_stopwords)"
      ],
      "metadata": {
        "execution": {
          "iopub.status.busy": "2021-06-11T05:32:03.003049Z",
          "iopub.execute_input": "2021-06-11T05:32:03.003398Z",
          "iopub.status.idle": "2021-06-11T05:32:03.023126Z",
          "shell.execute_reply.started": "2021-06-11T05:32:03.003348Z",
          "shell.execute_reply": "2021-06-11T05:32:03.022214Z"
        },
        "trusted": true,
        "id": "rpLF4thhffTi"
      },
      "execution_count": null,
      "outputs": []
    },
    {
      "cell_type": "markdown",
      "source": [
        "### Remove unwanted words from reviews\n",
        "#### Ex. html tags, punctuation, stop words, etc.."
      ],
      "metadata": {
        "id": "cLzUNaHUffTi"
      }
    },
    {
      "cell_type": "code",
      "source": [
        "#stemming object\n",
        "stemmer = PorterStemmer()\n",
        "\n",
        "# ---------------------------------------------\n",
        "HTMLTAGS = re.compile('<.*?>')\n",
        "table = str.maketrans(dict.fromkeys(string.punctuation))\n",
        "remove_digits = str.maketrans('', '', string.digits)\n",
        "MULTIPLE_WHITESPACE = re.compile(r\"\\s+\")\n",
        "# ---------------------------------------------"
      ],
      "metadata": {
        "execution": {
          "iopub.status.busy": "2021-06-11T05:32:03.024618Z",
          "iopub.execute_input": "2021-06-11T05:32:03.024953Z",
          "iopub.status.idle": "2021-06-11T05:32:03.031079Z",
          "shell.execute_reply.started": "2021-06-11T05:32:03.02492Z",
          "shell.execute_reply": "2021-06-11T05:32:03.029887Z"
        },
        "trusted": true,
        "id": "KjKMpTyKffTi"
      },
      "execution_count": null,
      "outputs": []
    },
    {
      "cell_type": "code",
      "source": [
        "def preprocessor(review):\n",
        "    # remove html tags\n",
        "    review = HTMLTAGS.sub(r'', review)\n",
        "\n",
        "    # remove puncutuation\n",
        "    review = review.translate(table)\n",
        "\n",
        "    # remove digits\n",
        "    review = review.translate(remove_digits)\n",
        "\n",
        "    # lower case all letters\n",
        "    review = review.lower()\n",
        "\n",
        "    # replace multiple white spaces with single space\n",
        "    review = MULTIPLE_WHITESPACE.sub(\" \", review).strip()\n",
        "\n",
        "    # remove stop words\n",
        "    review = [word for word in review.split()\n",
        "              if word not in final_stopwords]\n",
        "\n",
        "    # stemming\n",
        "    review = ' '.join([stemmer.stem(word) for word in review])\n",
        "\n",
        "    return review"
      ],
      "metadata": {
        "execution": {
          "iopub.status.busy": "2021-06-11T05:32:03.032432Z",
          "iopub.execute_input": "2021-06-11T05:32:03.032775Z",
          "iopub.status.idle": "2021-06-11T05:32:03.040562Z",
          "shell.execute_reply.started": "2021-06-11T05:32:03.03274Z",
          "shell.execute_reply": "2021-06-11T05:32:03.039715Z"
        },
        "trusted": true,
        "id": "FxGVpBHRffTj"
      },
      "execution_count": null,
      "outputs": []
    },
    {
      "cell_type": "code",
      "source": [
        "print(\"Before preprocessing : \")\n",
        "data.Text.iloc[6]"
      ],
      "metadata": {
        "execution": {
          "iopub.status.busy": "2021-06-11T05:32:03.04167Z",
          "iopub.execute_input": "2021-06-11T05:32:03.04201Z",
          "iopub.status.idle": "2021-06-11T05:32:03.054452Z",
          "shell.execute_reply.started": "2021-06-11T05:32:03.041975Z",
          "shell.execute_reply": "2021-06-11T05:32:03.053461Z"
        },
        "trusted": true,
        "id": "gEg-NpJsffTj"
      },
      "execution_count": null,
      "outputs": []
    },
    {
      "cell_type": "code",
      "source": [
        "# apply preprocessing function\n",
        "\n",
        "data.Text = data.Text.apply(preprocessor)\n",
        "print(\"After preprocessing : \")\n",
        "data.Text.iloc[6]"
      ],
      "metadata": {
        "execution": {
          "iopub.status.busy": "2021-06-11T05:32:03.055762Z",
          "iopub.execute_input": "2021-06-11T05:32:03.05621Z",
          "iopub.status.idle": "2021-06-11T05:34:34.004456Z",
          "shell.execute_reply.started": "2021-06-11T05:32:03.056175Z",
          "shell.execute_reply": "2021-06-11T05:34:34.003635Z"
        },
        "trusted": true,
        "id": "9WQ5YfHMffTk"
      },
      "execution_count": null,
      "outputs": []
    },
    {
      "cell_type": "markdown",
      "source": [
        "<h2 style = \"font-size:25px; font-family:Garamond ; font-weight : bold; background-color: #007580; color :#fed049   ; text-align: center; border-radius: 5px 5px; padding: 5px\">Word clouds</h2>"
      ],
      "metadata": {
        "id": "d0X7ploSffTk"
      }
    },
    {
      "cell_type": "code",
      "source": [
        "def generate_wcloud(text):\n",
        "    stopwords = set(STOPWORDS)\n",
        "\n",
        "    wordcloud = WordCloud(stopwords=stopwords, background_color='white')\n",
        "    wordcloud.generate(text)\n",
        "\n",
        "    plt.figure(figsize=(15,7))\n",
        "    plt.axis('off')\n",
        "    plt.imshow(wordcloud, interpolation='bilinear')\n",
        "    return plt.show()"
      ],
      "metadata": {
        "execution": {
          "iopub.status.busy": "2021-06-11T05:47:13.184315Z",
          "iopub.execute_input": "2021-06-11T05:47:13.184706Z",
          "iopub.status.idle": "2021-06-11T05:47:13.18918Z",
          "shell.execute_reply.started": "2021-06-11T05:47:13.184676Z",
          "shell.execute_reply": "2021-06-11T05:47:13.188403Z"
        },
        "trusted": true,
        "id": "moixSWBkffTk"
      },
      "execution_count": null,
      "outputs": []
    },
    {
      "cell_type": "markdown",
      "source": [
        "### Word cloud for Positive reviews"
      ],
      "metadata": {
        "id": "SLJihJC4ffTl"
      }
    },
    {
      "cell_type": "code",
      "source": [
        "pos = data.loc[data.target==\"Positive\"].Text\n",
        "text = \" \".join(review for review in pos.astype(str))\n",
        "\n",
        "generate_wcloud(text)"
      ],
      "metadata": {
        "execution": {
          "iopub.status.busy": "2021-06-11T05:47:14.535639Z",
          "iopub.execute_input": "2021-06-11T05:47:14.535979Z",
          "iopub.status.idle": "2021-06-11T05:47:28.220228Z",
          "shell.execute_reply.started": "2021-06-11T05:47:14.535948Z",
          "shell.execute_reply": "2021-06-11T05:47:28.219314Z"
        },
        "trusted": true,
        "id": "I8HuqWEIffTy"
      },
      "execution_count": null,
      "outputs": []
    },
    {
      "cell_type": "markdown",
      "source": [
        "### Word cloud for Negative reviews"
      ],
      "metadata": {
        "id": "HMOVUWt_ffTy"
      }
    },
    {
      "cell_type": "code",
      "source": [
        "pos = data.loc[data.target==\"Negative\"].Text\n",
        "text = \" \".join(review for review in pos.astype(str))\n",
        "\n",
        "generate_wcloud(text)"
      ],
      "metadata": {
        "execution": {
          "iopub.status.busy": "2021-06-11T05:47:41.318102Z",
          "iopub.execute_input": "2021-06-11T05:47:41.318437Z",
          "iopub.status.idle": "2021-06-11T05:47:55.502734Z",
          "shell.execute_reply.started": "2021-06-11T05:47:41.318405Z",
          "shell.execute_reply": "2021-06-11T05:47:55.501011Z"
        },
        "trusted": true,
        "id": "Kb8ot-OXffTz"
      },
      "execution_count": null,
      "outputs": []
    },
    {
      "cell_type": "markdown",
      "source": [
        "### Word cloud for Neutral reviews"
      ],
      "metadata": {
        "id": "8D_7pe8offTz"
      }
    },
    {
      "cell_type": "code",
      "source": [
        "pos = data.loc[data.target==\"Neutral\"].Text\n",
        "text = \" \".join(review for review in pos.astype(str))\n",
        "\n",
        "generate_wcloud(text)"
      ],
      "metadata": {
        "execution": {
          "iopub.status.busy": "2021-06-11T05:47:55.506337Z",
          "iopub.execute_input": "2021-06-11T05:47:55.506697Z",
          "iopub.status.idle": "2021-06-11T05:48:05.732068Z",
          "shell.execute_reply.started": "2021-06-11T05:47:55.506663Z",
          "shell.execute_reply": "2021-06-11T05:48:05.731181Z"
        },
        "trusted": true,
        "id": "DoqO7XBBffT0"
      },
      "execution_count": null,
      "outputs": []
    },
    {
      "cell_type": "markdown",
      "source": [
        "<h2 style = \"font-size:25px; font-family:Garamond ; font-weight : bold; background-color: #007580; color :#fed049   ; text-align: center; border-radius: 5px 5px; padding: 5px\">Train Test Split</h2>\n",
        "\n",
        "#### Train set : 70% of data\n",
        "#### Test set : 30% of data"
      ],
      "metadata": {
        "id": "umoS9VMFffT0"
      }
    },
    {
      "cell_type": "code",
      "source": [
        "X = data.Text\n",
        "y = data.target\n",
        "\n",
        "X_train, X_test, y_train, y_test = train_test_split(\n",
        "\n",
        "    X, y, test_size=0.20, random_state=1, stratify=y)"
      ],
      "metadata": {
        "execution": {
          "iopub.status.busy": "2021-06-11T05:35:11.732859Z",
          "iopub.execute_input": "2021-06-11T05:35:11.733255Z",
          "iopub.status.idle": "2021-06-11T05:35:11.910562Z",
          "shell.execute_reply.started": "2021-06-11T05:35:11.733213Z",
          "shell.execute_reply": "2021-06-11T05:35:11.909635Z"
        },
        "trusted": true,
        "id": "khAqbpQSffT0"
      },
      "execution_count": null,
      "outputs": []
    },
    {
      "cell_type": "code",
      "source": [
        "X_train.shape, X_test.shape"
      ],
      "metadata": {
        "execution": {
          "iopub.status.busy": "2021-06-11T05:35:11.914312Z",
          "iopub.execute_input": "2021-06-11T05:35:11.914594Z",
          "iopub.status.idle": "2021-06-11T05:35:11.921442Z",
          "shell.execute_reply.started": "2021-06-11T05:35:11.914567Z",
          "shell.execute_reply": "2021-06-11T05:35:11.920522Z"
        },
        "trusted": true,
        "id": "qUv5xvvBffT1"
      },
      "execution_count": null,
      "outputs": []
    },
    {
      "cell_type": "markdown",
      "source": [
        "<h2 style = \"font-size:25px; font-family:Garamond ; font-weight : bold; background-color: #007580; color :#fed049   ; text-align: center; border-radius: 5px 5px; padding: 5px\">Vectorization</h2>"
      ],
      "metadata": {
        "id": "y_vXXCMIffT1"
      }
    },
    {
      "cell_type": "markdown",
      "source": [
        "### Bag of Words Vectorizer"
      ],
      "metadata": {
        "id": "DAp9PqoqffT1"
      }
    },
    {
      "cell_type": "code",
      "source": [
        "bow_vectorizer = CountVectorizer(max_features=10000)\n",
        "bow_vectorizer.fit(X_train)\n",
        "\n",
        "# transform\n",
        "bow_X_train = bow_vectorizer.transform(X_train)\n",
        "bow_X_test = bow_vectorizer.transform(X_test)"
      ],
      "metadata": {
        "execution": {
          "iopub.status.busy": "2021-06-11T05:35:11.923308Z",
          "iopub.execute_input": "2021-06-11T05:35:11.92368Z",
          "iopub.status.idle": "2021-06-11T05:35:23.131914Z",
          "shell.execute_reply.started": "2021-06-11T05:35:11.923645Z",
          "shell.execute_reply": "2021-06-11T05:35:23.131047Z"
        },
        "trusted": true,
        "id": "PE445XgBffT1"
      },
      "execution_count": null,
      "outputs": []
    },
    {
      "cell_type": "markdown",
      "source": [
        "### TF-IDF Vectorizer"
      ],
      "metadata": {
        "id": "xZEFauVCffT2"
      }
    },
    {
      "cell_type": "code",
      "source": [
        "tfidf_vectorizer = TfidfVectorizer(max_features=10000)\n",
        "tfidf_vectorizer.fit(X_train)\n",
        "\n",
        "# transform\n",
        "tfidf_X_train = tfidf_vectorizer.transform(X_train)\n",
        "tfidf_X_test = tfidf_vectorizer.transform(X_test)"
      ],
      "metadata": {
        "id": "NNF4xD6CT6yn",
        "execution": {
          "iopub.status.busy": "2021-06-11T05:35:23.133141Z",
          "iopub.execute_input": "2021-06-11T05:35:23.133654Z",
          "iopub.status.idle": "2021-06-11T05:35:35.046562Z",
          "shell.execute_reply.started": "2021-06-11T05:35:23.133615Z",
          "shell.execute_reply": "2021-06-11T05:35:35.045697Z"
        },
        "trusted": true
      },
      "execution_count": null,
      "outputs": []
    },
    {
      "cell_type": "markdown",
      "source": [
        "###  Label Encoding"
      ],
      "metadata": {
        "id": "nIU04FNkffT2"
      }
    },
    {
      "cell_type": "code",
      "source": [
        "labelEncoder = LabelEncoder()\n",
        "\n",
        "y_train = labelEncoder.fit_transform(y_train)\n",
        "y_test = labelEncoder.transform(y_test)\n",
        "\n",
        "labels = labelEncoder.classes_.tolist()\n",
        "print(labels) # index-> class"
      ],
      "metadata": {
        "execution": {
          "iopub.status.busy": "2021-06-11T05:35:35.047894Z",
          "iopub.execute_input": "2021-06-11T05:35:35.048248Z",
          "iopub.status.idle": "2021-06-11T05:35:35.089588Z",
          "shell.execute_reply.started": "2021-06-11T05:35:35.048211Z",
          "shell.execute_reply": "2021-06-11T05:35:35.088639Z"
        },
        "trusted": true,
        "id": "4QwgLYB8ffT3"
      },
      "execution_count": null,
      "outputs": []
    },
    {
      "cell_type": "markdown",
      "source": [
        "<a id=\"4\"></a>\n",
        "<h2 style = \"font-size:30px; font-family:Garamond ; font-weight : bold; background-color: #007580; color :#fed049   ; text-align: center; border-radius: 5px 5px; padding: 10px\">4. Model Training</h2>"
      ],
      "metadata": {
        "id": "E6MDZzfPffT4"
      }
    },
    {
      "cell_type": "code",
      "source": [
        "###\n",
        "def train_and_eval(model, trainX, trainY, testX, testY):\n",
        "\n",
        "    # training\n",
        "    _ = model.fit(trainX, trainY)\n",
        "\n",
        "    # predictions\n",
        "    y_preds_train = model.predict(trainX)\n",
        "    y_preds_test = model.predict(testX)\n",
        "\n",
        "    # evaluation\n",
        "    print()\n",
        "    print(model)\n",
        "    print(f\"Train accuracy score : {accuracy_score(y_train, y_preds_train)}\")\n",
        "    print(f\"Test accuracy score : {accuracy_score(y_test, y_preds_test)}\")\n",
        "    print('\\n',40*'-')"
      ],
      "metadata": {
        "execution": {
          "iopub.status.busy": "2021-06-11T05:35:35.090957Z",
          "iopub.execute_input": "2021-06-11T05:35:35.091495Z",
          "iopub.status.idle": "2021-06-11T05:35:35.099458Z",
          "shell.execute_reply.started": "2021-06-11T05:35:35.091458Z",
          "shell.execute_reply": "2021-06-11T05:35:35.098617Z"
        },
        "trusted": true,
        "id": "mZ1Uyg1IffT4"
      },
      "execution_count": null,
      "outputs": []
    },
    {
      "cell_type": "markdown",
      "source": [
        "## Logistic Regression with BoW"
      ],
      "metadata": {
        "id": "CclK5sxbffT5"
      }
    },
    {
      "cell_type": "code",
      "source": [
        "# Hyperparameters\n",
        "C = [0.001, 0.01, 0.1, 1, 10]\n",
        "\n",
        "for c in C:\n",
        "    # Define model\n",
        "    log_model = LogisticRegression(C=c, max_iter=500, random_state=1)\n",
        "\n",
        "    # Train and evaluate model\n",
        "    train_and_eval(model=log_model,\n",
        "                   trainX=bow_X_train,\n",
        "                   trainY=y_train,\n",
        "                   testX=bow_X_test,\n",
        "                   testY=y_test)"
      ],
      "metadata": {
        "id": "MjhkYVoRub8p",
        "execution": {
          "iopub.status.busy": "2021-06-11T05:35:35.100681Z",
          "iopub.execute_input": "2021-06-11T05:35:35.101079Z",
          "iopub.status.idle": "2021-06-11T05:38:49.19984Z",
          "shell.execute_reply.started": "2021-06-11T05:35:35.101044Z",
          "shell.execute_reply": "2021-06-11T05:38:49.198916Z"
        },
        "trusted": true
      },
      "execution_count": null,
      "outputs": []
    },
    {
      "cell_type": "markdown",
      "source": [
        "## Naive Bayes Classifier with BoW"
      ],
      "metadata": {
        "id": "BV5CiKNvffT6"
      }
    },
    {
      "cell_type": "code",
      "source": [
        "alphas = [0, 0.2, 0.6, 0.8, 1]\n",
        "\n",
        "for a  in alphas:\n",
        "    # Define model\n",
        "    nb_model = MultinomialNB(alpha=a)\n",
        "\n",
        "    # Train and evaluate model\n",
        "    train_and_eval(model=nb_model,\n",
        "                   trainX=bow_X_train,\n",
        "                   trainY=y_train,\n",
        "                   testX=bow_X_test,\n",
        "                   testY=y_test)"
      ],
      "metadata": {
        "execution": {
          "iopub.status.busy": "2021-06-11T05:38:49.201151Z",
          "iopub.execute_input": "2021-06-11T05:38:49.20151Z",
          "iopub.status.idle": "2021-06-11T05:38:49.568488Z",
          "shell.execute_reply.started": "2021-06-11T05:38:49.201474Z",
          "shell.execute_reply": "2021-06-11T05:38:49.567538Z"
        },
        "trusted": true,
        "id": "MxWVM5V2ffT6"
      },
      "execution_count": null,
      "outputs": []
    },
    {
      "cell_type": "markdown",
      "source": [
        "## Logistic Regression with Tf-Idf"
      ],
      "metadata": {
        "id": "DD8FWu05ffT6"
      }
    },
    {
      "cell_type": "code",
      "source": [
        "# Hyperparameters\n",
        "C = [0.001, 0.01, 0.1, 1, 10]\n",
        "\n",
        "for c in C:\n",
        "    # Define model\n",
        "    log_model = LogisticRegression(C=c, max_iter=500, random_state=1)\n",
        "\n",
        "    # Train and evaluate model\n",
        "    train_and_eval(model=log_model,\n",
        "                   trainX=tfidf_X_train,\n",
        "                   trainY=y_train,\n",
        "                   testX=tfidf_X_test,\n",
        "                   testY=y_test)"
      ],
      "metadata": {
        "execution": {
          "iopub.status.busy": "2021-06-11T05:38:49.569841Z",
          "iopub.execute_input": "2021-06-11T05:38:49.570355Z",
          "iopub.status.idle": "2021-06-11T05:40:48.757077Z",
          "shell.execute_reply.started": "2021-06-11T05:38:49.570311Z",
          "shell.execute_reply": "2021-06-11T05:40:48.756145Z"
        },
        "trusted": true,
        "id": "aNWRkksjffT7"
      },
      "execution_count": null,
      "outputs": []
    },
    {
      "cell_type": "markdown",
      "source": [
        "## Naive Bayes classifier with Tf-Idf"
      ],
      "metadata": {
        "id": "Fk84H0ndffT7"
      }
    },
    {
      "cell_type": "code",
      "source": [
        "alphas = [0, 0.2, 0.6, 0.8, 1]\n",
        "\n",
        "for a  in alphas:\n",
        "    # Define model\n",
        "    nb_model = MultinomialNB(alpha=a)\n",
        "\n",
        "    # Train and evaluate model\n",
        "    train_and_eval(model=nb_model,\n",
        "                   trainX=tfidf_X_train,\n",
        "                   trainY=y_train,\n",
        "                   testX=tfidf_X_test,\n",
        "                   testY=y_test)"
      ],
      "metadata": {
        "execution": {
          "iopub.status.busy": "2021-06-11T05:40:48.761354Z",
          "iopub.execute_input": "2021-06-11T05:40:48.763538Z",
          "iopub.status.idle": "2021-06-11T05:40:49.098983Z",
          "shell.execute_reply.started": "2021-06-11T05:40:48.763495Z",
          "shell.execute_reply": "2021-06-11T05:40:49.098071Z"
        },
        "trusted": true,
        "id": "zuad9RXdffT8"
      },
      "execution_count": null,
      "outputs": []
    },
    {
      "cell_type": "markdown",
      "source": [
        "<a id=\"5\"></a>\n",
        "<h2 style = \"font-size:30px; font-family:Garamond ; font-weight : bold; background-color: #007580; color :#fed049   ; text-align: center; border-radius: 5px 5px; padding: 10px\">5. Model Evaluation</h2>"
      ],
      "metadata": {
        "id": "NTAadwfPffT9"
      }
    },
    {
      "cell_type": "code",
      "source": [
        "def plot_cm(y_true, y_pred):\n",
        "    plt.figure(figsize=(6,6))\n",
        "\n",
        "    cm = confusion_matrix(y_true, y_pred, normalize='true')\n",
        "\n",
        "    sns.heatmap(\n",
        "        cm, annot=True, cmap='Blues', cbar=False, fmt='.2f',\n",
        "        xticklabels=labels, yticklabels=labels)\n",
        "\n",
        "    return plt.show()"
      ],
      "metadata": {
        "execution": {
          "iopub.status.busy": "2021-06-11T05:40:49.101833Z",
          "iopub.execute_input": "2021-06-11T05:40:49.102105Z",
          "iopub.status.idle": "2021-06-11T05:40:49.107431Z",
          "shell.execute_reply.started": "2021-06-11T05:40:49.102079Z",
          "shell.execute_reply": "2021-06-11T05:40:49.106308Z"
        },
        "trusted": true,
        "id": "EBqs-en0ffT9"
      },
      "execution_count": null,
      "outputs": []
    },
    {
      "cell_type": "markdown",
      "source": [
        "### Best model : Logistic Regression(C=1) with TfIdf data"
      ],
      "metadata": {
        "id": "J4mzor0offT-"
      }
    },
    {
      "cell_type": "code",
      "source": [
        "bmodel = LogisticRegression(C=1, max_iter=500, random_state=1)\n",
        "bmodel.fit(tfidf_X_train, y_train)"
      ],
      "metadata": {
        "execution": {
          "iopub.status.busy": "2021-06-11T05:40:49.108951Z",
          "iopub.execute_input": "2021-06-11T05:40:49.109429Z",
          "iopub.status.idle": "2021-06-11T05:41:23.224881Z",
          "shell.execute_reply.started": "2021-06-11T05:40:49.109379Z",
          "shell.execute_reply": "2021-06-11T05:41:23.223809Z"
        },
        "trusted": true,
        "id": "OciAsOa0ffT-"
      },
      "execution_count": null,
      "outputs": []
    },
    {
      "cell_type": "code",
      "source": [
        "# predictions\n",
        "y_preds_train = bmodel.predict(tfidf_X_train)\n",
        "y_preds_test = bmodel.predict(tfidf_X_test)"
      ],
      "metadata": {
        "execution": {
          "iopub.status.busy": "2021-06-11T05:41:23.226179Z",
          "iopub.execute_input": "2021-06-11T05:41:23.226552Z",
          "iopub.status.idle": "2021-06-11T05:41:23.306025Z",
          "shell.execute_reply.started": "2021-06-11T05:41:23.226517Z",
          "shell.execute_reply": "2021-06-11T05:41:23.305113Z"
        },
        "trusted": true,
        "id": "RgrigrGzffT_"
      },
      "execution_count": null,
      "outputs": []
    },
    {
      "cell_type": "markdown",
      "source": [
        "### Accuracy"
      ],
      "metadata": {
        "id": "uxUPxWaxffT_"
      }
    },
    {
      "cell_type": "code",
      "source": [
        "print(f\"Train accuracy score : {accuracy_score(y_train, y_preds_train)}\")\n",
        "print(f\"Test accuracy score : {accuracy_score(y_test, y_preds_test)}\")"
      ],
      "metadata": {
        "execution": {
          "iopub.status.busy": "2021-06-11T05:41:23.307259Z",
          "iopub.execute_input": "2021-06-11T05:41:23.307619Z",
          "iopub.status.idle": "2021-06-11T05:41:23.323765Z",
          "shell.execute_reply.started": "2021-06-11T05:41:23.307584Z",
          "shell.execute_reply": "2021-06-11T05:41:23.322942Z"
        },
        "trusted": true,
        "id": "Yd07_5RqffT_"
      },
      "execution_count": null,
      "outputs": []
    },
    {
      "cell_type": "markdown",
      "source": [
        "### Confusion Matrix"
      ],
      "metadata": {
        "id": "h8i7nSokffUA"
      }
    },
    {
      "cell_type": "code",
      "source": [
        "plot_cm(y_test, y_preds_test)"
      ],
      "metadata": {
        "execution": {
          "iopub.status.busy": "2021-06-11T05:41:23.327753Z",
          "iopub.execute_input": "2021-06-11T05:41:23.329849Z",
          "iopub.status.idle": "2021-06-11T05:41:23.459018Z",
          "shell.execute_reply.started": "2021-06-11T05:41:23.329808Z",
          "shell.execute_reply": "2021-06-11T05:41:23.458293Z"
        },
        "trusted": true,
        "id": "w0U7YKe2ffUA"
      },
      "execution_count": null,
      "outputs": []
    },
    {
      "cell_type": "markdown",
      "source": [
        "### Observations\n",
        "\n",
        "#### - Our model is performing better on classifying positive and negative reviews.\n",
        "#### - Need improvement in classifying the neutral reviews (Any suggestions??)"
      ],
      "metadata": {
        "id": "cyko-4H2ffUA"
      }
    },
    {
      "cell_type": "markdown",
      "source": [
        "<a id=\"6\"></a>\n",
        "<h2 style = \"font-size:30px; font-family:Garamond ; font-weight : bold; background-color: #007580; color :#fed049   ; text-align: center; border-radius: 5px 5px; padding: 10px\">6. Deployment</h2>"
      ],
      "metadata": {
        "id": "JKV5Tqz94zWz"
      }
    },
    {
      "cell_type": "markdown",
      "source": [
        "### Save model and transformer"
      ],
      "metadata": {
        "id": "yJPJKS-MffUB"
      }
    },
    {
      "cell_type": "code",
      "source": [
        "with open(\"transformer.pkl\", \"wb\") as f:\n",
        "    pickle.dump(tfidf_vectorizer, f)\n",
        "\n",
        "with open(\"model.pkl\", \"wb\") as f:\n",
        "    pickle.dump(bmodel, f)"
      ],
      "metadata": {
        "execution": {
          "iopub.status.busy": "2021-06-11T05:41:23.460126Z",
          "iopub.execute_input": "2021-06-11T05:41:23.460478Z",
          "iopub.status.idle": "2021-06-11T05:41:23.529795Z",
          "shell.execute_reply.started": "2021-06-11T05:41:23.460446Z",
          "shell.execute_reply": "2021-06-11T05:41:23.528988Z"
        },
        "trusted": true,
        "id": "swPmz6CNffUB"
      },
      "execution_count": null,
      "outputs": []
    },
    {
      "cell_type": "markdown",
      "source": [
        "### Prediction on single review"
      ],
      "metadata": {
        "id": "BPpb9D01ffUC"
      }
    },
    {
      "cell_type": "code",
      "source": [
        "# labels = ['Negative', 'Neutral', 'Positive']\n",
        "def get_sentiment(review):\n",
        "    # preprocessing\n",
        "    x = preprocessor(review)\n",
        "    #vectorization\n",
        "    x = tfidf_vectorizer.transform([x])\n",
        "    #prediction\n",
        "    y = int(bmodel.predict(x.reshape(1,-1)))\n",
        "    return labels[y]"
      ],
      "metadata": {
        "execution": {
          "iopub.status.busy": "2021-06-11T05:41:23.531017Z",
          "iopub.execute_input": "2021-06-11T05:41:23.531498Z",
          "iopub.status.idle": "2021-06-11T05:41:23.536489Z",
          "shell.execute_reply.started": "2021-06-11T05:41:23.531461Z",
          "shell.execute_reply": "2021-06-11T05:41:23.535467Z"
        },
        "trusted": true,
        "id": "9z0N8Js1ffUC"
      },
      "execution_count": null,
      "outputs": []
    },
    {
      "cell_type": "code",
      "source": [
        "# positve review\n",
        "review = \"This chips packet is very tasty. I highly recommend this!\"\n",
        "print(f\"This is a {get_sentiment(review)} review!\")"
      ],
      "metadata": {
        "execution": {
          "iopub.status.busy": "2021-06-11T05:41:23.537902Z",
          "iopub.execute_input": "2021-06-11T05:41:23.538301Z",
          "iopub.status.idle": "2021-06-11T05:41:23.548782Z",
          "shell.execute_reply.started": "2021-06-11T05:41:23.538266Z",
          "shell.execute_reply": "2021-06-11T05:41:23.547968Z"
        },
        "trusted": true,
        "id": "Ix4G5W_MffUC"
      },
      "execution_count": null,
      "outputs": []
    },
    {
      "cell_type": "code",
      "source": [
        "# positve review\n",
        "review = \"This product is a waste of money. Don't buy this!!\"\n",
        "print(f\"This is a {get_sentiment(review)} review!\")"
      ],
      "metadata": {
        "execution": {
          "iopub.status.busy": "2021-06-11T05:41:23.550084Z",
          "iopub.execute_input": "2021-06-11T05:41:23.550456Z",
          "iopub.status.idle": "2021-06-11T05:41:23.558033Z",
          "shell.execute_reply.started": "2021-06-11T05:41:23.55042Z",
          "shell.execute_reply": "2021-06-11T05:41:23.556705Z"
        },
        "trusted": true,
        "id": "owVK6go3ffUD"
      },
      "execution_count": null,
      "outputs": []
    }
  ]
}